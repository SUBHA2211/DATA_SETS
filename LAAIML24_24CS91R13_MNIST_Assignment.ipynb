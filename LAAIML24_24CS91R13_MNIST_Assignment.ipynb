{
  "nbformat": 4,
  "nbformat_minor": 0,
  "metadata": {
    "colab": {
      "provenance": [],
      "authorship_tag": "ABX9TyPs14A8Oerx+cMOrNl7ghqB",
      "include_colab_link": true
    },
    "kernelspec": {
      "name": "python3",
      "display_name": "Python 3"
    },
    "language_info": {
      "name": "python"
    }
  },
  "cells": [
    {
      "cell_type": "markdown",
      "metadata": {
        "id": "view-in-github",
        "colab_type": "text"
      },
      "source": [
        "<a href=\"https://colab.research.google.com/github/SUBHA2211/DATA_SETS/blob/main/LAAIML24_24CS91R13_MNIST_Assignment.ipynb\" target=\"_parent\"><img src=\"https://colab.research.google.com/assets/colab-badge.svg\" alt=\"Open In Colab\"/></a>"
      ]
    },
    {
      "cell_type": "markdown",
      "source": [
        "Importing all dependencies"
      ],
      "metadata": {
        "id": "-WEbl8ScjTms"
      }
    },
    {
      "cell_type": "code",
      "source": [
        "import numpy as np\n",
        "from sklearn.datasets import fetch_openml\n",
        "from sklearn.model_selection import train_test_split\n",
        "from sklearn.preprocessing import OneHotEncoder\n",
        "from sklearn.metrics import accuracy_score"
      ],
      "metadata": {
        "id": "PxBe4CR4jMjI"
      },
      "execution_count": 4,
      "outputs": []
    },
    {
      "cell_type": "markdown",
      "source": [
        "# Step 1 (Data Loading): Load MNIST dataset"
      ],
      "metadata": {
        "id": "lqoXAK7pjdqa"
      }
    },
    {
      "cell_type": "code",
      "source": [
        "# Load the MNIST dataset\n",
        "mnist = fetch_openml(\"mnist_784\", version=1)\n",
        "X, y = mnist.data, mnist.target.astype(int)  # X: image data, y: labels\n",
        "\n",
        "# Split data into training and test sets\n",
        "X_train, X_test, y_train, y_test = train_test_split(X, y, test_size=0.2, random_state=42)\n"
      ],
      "metadata": {
        "id": "gvAqHHoEjkh2"
      },
      "execution_count": 21,
      "outputs": []
    },
    {
      "cell_type": "markdown",
      "source": [
        "Visulizing data"
      ],
      "metadata": {
        "id": "nmbcu04NkH7s"
      }
    },
    {
      "cell_type": "code",
      "source": [
        "print(X.head())"
      ],
      "metadata": {
        "colab": {
          "base_uri": "https://localhost:8080/",
          "height": 0
        },
        "id": "9lSzSxnUjsRe",
        "outputId": "c534dbe2-a2bc-420a-b3a4-b6dbd31cbc51"
      },
      "execution_count": 22,
      "outputs": [
        {
          "output_type": "stream",
          "name": "stdout",
          "text": [
            "   pixel1  pixel2  pixel3  pixel4  pixel5  pixel6  pixel7  pixel8  pixel9  \\\n",
            "0       0       0       0       0       0       0       0       0       0   \n",
            "1       0       0       0       0       0       0       0       0       0   \n",
            "2       0       0       0       0       0       0       0       0       0   \n",
            "3       0       0       0       0       0       0       0       0       0   \n",
            "4       0       0       0       0       0       0       0       0       0   \n",
            "\n",
            "   pixel10  ...  pixel775  pixel776  pixel777  pixel778  pixel779  pixel780  \\\n",
            "0        0  ...         0         0         0         0         0         0   \n",
            "1        0  ...         0         0         0         0         0         0   \n",
            "2        0  ...         0         0         0         0         0         0   \n",
            "3        0  ...         0         0         0         0         0         0   \n",
            "4        0  ...         0         0         0         0         0         0   \n",
            "\n",
            "   pixel781  pixel782  pixel783  pixel784  \n",
            "0         0         0         0         0  \n",
            "1         0         0         0         0  \n",
            "2         0         0         0         0  \n",
            "3         0         0         0         0  \n",
            "4         0         0         0         0  \n",
            "\n",
            "[5 rows x 784 columns]\n"
          ]
        }
      ]
    },
    {
      "cell_type": "code",
      "source": [
        "print(y.head())"
      ],
      "metadata": {
        "colab": {
          "base_uri": "https://localhost:8080/",
          "height": 0
        },
        "id": "AfUGhfyyj-R3",
        "outputId": "fd71ab86-7da9-40f6-9c62-4fa9219d9757"
      },
      "execution_count": 23,
      "outputs": [
        {
          "output_type": "stream",
          "name": "stdout",
          "text": [
            "0    5\n",
            "1    0\n",
            "2    4\n",
            "3    1\n",
            "4    9\n",
            "Name: class, dtype: int64\n"
          ]
        }
      ]
    },
    {
      "cell_type": "code",
      "source": [
        "print(X.shape)\n",
        "print(y.shape)"
      ],
      "metadata": {
        "colab": {
          "base_uri": "https://localhost:8080/",
          "height": 0
        },
        "id": "jvW45oNgkPuP",
        "outputId": "f0a43338-086b-432b-89f0-4bbf814c8228"
      },
      "execution_count": 24,
      "outputs": [
        {
          "output_type": "stream",
          "name": "stdout",
          "text": [
            "(70000, 784)\n",
            "(70000,)\n"
          ]
        }
      ]
    },
    {
      "cell_type": "markdown",
      "source": [
        "2. Data Preprocessing: Normalize the data and manually convert labels to one-hot encoding"
      ],
      "metadata": {
        "id": "FLDo4hq2keGz"
      }
    },
    {
      "cell_type": "code",
      "source": [
        "# Normalize the data\n",
        "X_train = X_train / 255.0\n",
        "X_test = X_test / 255.0\n",
        "\n",
        "# Manually create one-hot encoded labels\n",
        "def one_hot_encode(y, num_classes=10):\n",
        "    one_hot = np.zeros((y.size, num_classes))\n",
        "    one_hot[np.arange(y.size), y] = 1\n",
        "    return one_hot\n",
        "\n",
        "y_train_one_hot = one_hot_encode(y_train)\n",
        "y_test_one_hot = one_hot_encode(y_test)\n"
      ],
      "metadata": {
        "id": "utK3944LkfTQ"
      },
      "execution_count": 25,
      "outputs": []
    },
    {
      "cell_type": "code",
      "source": [
        "print(X.head())"
      ],
      "metadata": {
        "colab": {
          "base_uri": "https://localhost:8080/",
          "height": 0
        },
        "id": "iVn0O74ak_iV",
        "outputId": "d4356dc3-6e48-41f0-d9b3-37041c787559"
      },
      "execution_count": 26,
      "outputs": [
        {
          "output_type": "stream",
          "name": "stdout",
          "text": [
            "   pixel1  pixel2  pixel3  pixel4  pixel5  pixel6  pixel7  pixel8  pixel9  \\\n",
            "0       0       0       0       0       0       0       0       0       0   \n",
            "1       0       0       0       0       0       0       0       0       0   \n",
            "2       0       0       0       0       0       0       0       0       0   \n",
            "3       0       0       0       0       0       0       0       0       0   \n",
            "4       0       0       0       0       0       0       0       0       0   \n",
            "\n",
            "   pixel10  ...  pixel775  pixel776  pixel777  pixel778  pixel779  pixel780  \\\n",
            "0        0  ...         0         0         0         0         0         0   \n",
            "1        0  ...         0         0         0         0         0         0   \n",
            "2        0  ...         0         0         0         0         0         0   \n",
            "3        0  ...         0         0         0         0         0         0   \n",
            "4        0  ...         0         0         0         0         0         0   \n",
            "\n",
            "   pixel781  pixel782  pixel783  pixel784  \n",
            "0         0         0         0         0  \n",
            "1         0         0         0         0  \n",
            "2         0         0         0         0  \n",
            "3         0         0         0         0  \n",
            "4         0         0         0         0  \n",
            "\n",
            "[5 rows x 784 columns]\n"
          ]
        }
      ]
    },
    {
      "cell_type": "code",
      "source": [
        "print(y_train_one_hot[:5])\n"
      ],
      "metadata": {
        "colab": {
          "base_uri": "https://localhost:8080/",
          "height": 0
        },
        "id": "mSNyRXn-k5k1",
        "outputId": "0f4275ad-a2bc-4958-b04c-60b789a2d1e9"
      },
      "execution_count": 27,
      "outputs": [
        {
          "output_type": "stream",
          "name": "stdout",
          "text": [
            "[[0. 0. 0. 0. 0. 1. 0. 0. 0. 0.]\n",
            " [0. 0. 0. 0. 1. 0. 0. 0. 0. 0.]\n",
            " [0. 0. 0. 0. 0. 0. 0. 0. 1. 0.]\n",
            " [1. 0. 0. 0. 0. 0. 0. 0. 0. 0.]\n",
            " [0. 0. 1. 0. 0. 0. 0. 0. 0. 0.]]\n"
          ]
        }
      ]
    },
    {
      "cell_type": "markdown",
      "source": [
        "3.Least Squares Model: Implement the least squares classifier using only np.linalg.lstsq to\n",
        "solve for the weight matrix."
      ],
      "metadata": {
        "id": "SgXhy7e4mMEn"
      }
    },
    {
      "cell_type": "code",
      "source": [
        "# Solve for W in the least squares equation X_train @ W ≈ y_train_one_hot\n",
        "W, residuals, rank, s = np.linalg.lstsq(X_train, y_train_one_hot, rcond=None)\n"
      ],
      "metadata": {
        "id": "iurK0zmWmNRM"
      },
      "execution_count": 28,
      "outputs": []
    },
    {
      "cell_type": "markdown",
      "source": [
        "4. Prediction and Evaluation: Predict labels and manually calculate accuracy for training and test\n",
        "sets."
      ],
      "metadata": {
        "id": "JXvm8AaXmo6v"
      }
    },
    {
      "cell_type": "code",
      "source": [
        "# Predict class by taking the argmax of the output (highest value indicates predicted class)\n",
        "y_train_pred = np.argmax(X_train @ W, axis=1)\n",
        "y_test_pred = np.argmax(X_test @ W, axis=1)\n",
        "\n",
        "# Manually calculate accuracy\n",
        "def calculate_accuracy(y_true, y_pred):\n",
        "    correct_predictions = np.sum(y_true == y_pred)\n",
        "    accuracy = correct_predictions / len(y_true)\n",
        "    return accuracy\n",
        "\n",
        "train_accuracy = calculate_accuracy(y_train, y_train_pred)\n",
        "test_accuracy = calculate_accuracy(y_test, y_test_pred)\n",
        "\n",
        "print(f\"Training Accuracy: {train_accuracy * 100:.2f}%\")\n",
        "print(f\"Test Accuracy: {test_accuracy * 100:.2f}%\")\n"
      ],
      "metadata": {
        "colab": {
          "base_uri": "https://localhost:8080/",
          "height": 0
        },
        "id": "_KsmxId7mpes",
        "outputId": "e5275eb9-65f0-4dcb-ffdc-ceecaf5b8c21"
      },
      "execution_count": 29,
      "outputs": [
        {
          "output_type": "stream",
          "name": "stdout",
          "text": [
            "Training Accuracy: 85.37%\n",
            "Test Accuracy: 84.91%\n"
          ]
        }
      ]
    },
    {
      "cell_type": "markdown",
      "source": [
        "5. Visualization: Display some images with accurately predicted class."
      ],
      "metadata": {
        "id": "4uegz75lphPm"
      }
    },
    {
      "cell_type": "code",
      "source": [
        "import matplotlib.pyplot as plt\n",
        "\n",
        "# Select some correctly classified examples from the test set\n",
        "correct_indices = np.where(y_test == y_test_pred)[0]\n",
        "\n",
        "plt.figure(figsize=(10, 5))\n",
        "for i, idx in enumerate(correct_indices[:10]):  # Display first 10 correct predictions\n",
        "    plt.subplot(2, 5, i + 1)\n",
        "    plt.imshow(X_test.iloc[idx].values.reshape(28, 28), cmap=\"gray\")\n",
        "    plt.title(f\"Label: {y_test.iloc[idx]}\")\n",
        "    plt.axis(\"off\")\n",
        "\n",
        "plt.suptitle(\"Correctly Classified Images\")\n",
        "plt.show()\n"
      ],
      "metadata": {
        "colab": {
          "base_uri": "https://localhost:8080/",
          "height": 451
        },
        "id": "rjMD8UXfph0C",
        "outputId": "30ca3122-466f-4586-d6c1-71624893cec8"
      },
      "execution_count": 32,
      "outputs": [
        {
          "output_type": "display_data",
          "data": {
            "text/plain": [
              "<Figure size 1000x500 with 10 Axes>"
            ],
            "image/png": "[encoded data removed]"
          },
          "metadata": {}
        }
      ]
    },
    {
      "cell_type": "markdown",
      "source": [
        "6. Optional Visualization: Display some misclassified images."
      ],
      "metadata": {
        "id": "MTwoeeouqOi7"
      }
    },
    {
      "cell_type": "code",
      "source": [
        "# Select some misclassified examples from the test set\n",
        "incorrect_indices = np.where(y_test != y_test_pred)[0]\n",
        "\n",
        "plt.figure(figsize=(10, 5))\n",
        "for i, idx in enumerate(incorrect_indices[:10]):  # Display first 10 misclassifications\n",
        "    plt.subplot(2, 5, i + 1)\n",
        "    plt.imshow(X_test.iloc[idx].values.reshape(28, 28), cmap=\"gray\")\n",
        "    plt.title(f\"True: {y_test.values[idx]}, Pred: {y_test_pred[idx]}\")\n",
        "    plt.axis(\"off\")\n",
        "\n",
        "plt.suptitle(\"Misclassified Images\")\n",
        "plt.show()\n"
      ],
      "metadata": {
        "colab": {
          "base_uri": "https://localhost:8080/",
          "height": 451
        },
        "id": "zU4eskPBqPTA",
        "outputId": "9c2e0f28-7072-489b-ac2e-f15a5586be6b"
      },
      "execution_count": 36,
      "outputs": [
        {
          "output_type": "display_data",
          "data": {
            "text/plain": [
              "<Figure size 1000x500 with 10 Axes>"
            ],
            "image/png": "[encoded data removed]"
          },
          "metadata": {}
        }
      ]
    }
  ]
}